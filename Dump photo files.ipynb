{
 "cells": [
  {
   "cell_type": "code",
   "execution_count": 211,
   "metadata": {
    "ExecuteTime": {
     "end_time": "2018-07-29T18:16:11.418614Z",
     "start_time": "2018-07-29T18:16:11.412664Z"
    }
   },
   "outputs": [],
   "source": [
    "import os\n",
    "import re\n",
    "import piexif"
   ]
  },
  {
   "cell_type": "code",
   "execution_count": 10,
   "metadata": {
    "ExecuteTime": {
     "end_time": "2018-07-29T14:56:41.396492Z",
     "start_time": "2018-07-29T14:56:41.391293Z"
    }
   },
   "outputs": [],
   "source": [
    "srcDirectory = '/media/jean-phi/EOS_DIGITAL'\n",
    "tgtDirectory = './images'"
   ]
  },
  {
   "cell_type": "code",
   "execution_count": 119,
   "metadata": {
    "ExecuteTime": {
     "end_time": "2018-07-29T16:01:07.156164Z",
     "start_time": "2018-07-29T16:01:07.071121Z"
    }
   },
   "outputs": [],
   "source": [
    "def _checkTrailingSlash(path='./'):\n",
    "    '''\n",
    "    Check if a slash is presen tat the end of o path.\n",
    "    If not add it.\n",
    "    \n",
    "    parameters:\n",
    "    path as a string\n",
    "    \n",
    "    return value:\n",
    "    path with  a trailing slash\n",
    "    '''\n",
    "    if path[-1] != '/':\n",
    "        return path + '/'\n",
    "    else:\n",
    "        return path\n",
    "\n",
    "def _isTargetedFile(filename='', targetFiles=['CR2']):\n",
    "    '''\n",
    "    Check if a file name has the correct extension\n",
    "    \n",
    "    parameters:\n",
    "    filename as a string (with complete path or not\n",
    "    targetFiles as an array of all valid extention.\n",
    "    \n",
    "    return value:\n",
    "    True if the filename is correct.\n",
    "    False otherwise.\n",
    "    '''\n",
    "    #targetFiles=['CR2', 'JPG']\n",
    "    targetFilePattern = targetFiles[0]\n",
    "    for t in targetFiles[1:]:\n",
    "        targetFilePattern += '|' + t\n",
    "    #print(os.path.basename(filename))\n",
    "    regexPattern = '^.*\\.({})$'.format(targetFilePattern)\n",
    "    #print(regexPattern)\n",
    "    filePattern = re.compile(regexPattern, re.IGNORECASE)\n",
    "    if filePattern.match(filename):\n",
    "        return True\n",
    "        #print('OK')\n",
    "    else:\n",
    "        return False\n",
    "        #print('KO')\n",
    "    \n",
    "def listFiles(srcPath='.'):\n",
    "    '''\n",
    "    list all image files with their path\n",
    "    \n",
    "    parameters:\n",
    "    source path to begin\n",
    "    \n",
    "    return value\n",
    "    a list of all files with their path\n",
    "    '''\n",
    "    filesList = []\n",
    "    filesInDir = os.listdir(srcPath)\n",
    "    for f in filesInDir:\n",
    "        fileWithPath = _checkTrailingSlash(srcPath) + f\n",
    "        if os.path.isfile(fileWithPath):\n",
    "            #print('{} is  a file'.format(fileWithPath))\n",
    "            if _isTargetedFile(fileWithPath):\n",
    "                filesList.append(fileWithPath)\n",
    "        elif os.path.isdir(fileWithPath):\n",
    "            #print('{} is a directory'.format(fileWithPath))\n",
    "            filesList += listFiles(fileWithPath)\n",
    "        else:\n",
    "            print('file {} not found'.format(fileWithPath))\n",
    "    return filesList"
   ]
  },
  {
   "cell_type": "code",
   "execution_count": 290,
   "metadata": {
    "ExecuteTime": {
     "end_time": "2018-07-29T19:32:34.260938Z",
     "start_time": "2018-07-29T19:32:34.212713Z"
    }
   },
   "outputs": [],
   "source": [
    "def getImageParameters(imagePath):\n",
    "    '''\n",
    "    Get parameters of the image (in Exif)\n",
    "    \n",
    "    Parameters:\n",
    "    path of the image as string\n",
    "    \n",
    "    return value:\n",
    "    A dictionary with image parameters\n",
    "       number of the image file\n",
    "       camera model\n",
    "       ISO\n",
    "       Aperture\n",
    "       Exposition\n",
    "       Focal length\n",
    "       Date and time\n",
    "    '''\n",
    "    imageParameters = {}\n",
    "    #Load exif information from the file\n",
    "    exifData = piexif.load(imagePath)\n",
    "    print(exifData['0th'].keys())\n",
    "    #Get the image number\n",
    "    imageNumberRe = re.compile('[0-9]+')\n",
    "    imageNumber = imageNumberRe.search(os.path.basename(imagePath)).group()\n",
    "    imageParameters['Image Number'] = imageNumber\n",
    "    \n",
    "    imageParameters['Camera'] = exifData['0th'][0x110]\n",
    "    imageParameters['ISO'] = exifData['Exif'][0x8827]\n",
    "    aperture = exifData['Exif'][0x829d]\n",
    "    imageParameters['Aperture'] = aperture[0] / aperture[1]\n",
    "    exposureTime = exifData['Exif'][0x829a]\n",
    "    imageParameters['Exposure Time'] = exposureTime[0] / exposureTime[1]\n",
    "    focalLength = exifData['Exif'][0x920a]\n",
    "    imageParameters['Focal Length'] = focalLength[0] / focalLength[1]\n",
    "    imageParameters['Date Time Original'] = exifData['Exif'][0x9003]\n",
    "    \n",
    "    return imageParameters"
   ]
  },
  {
   "cell_type": "code",
   "execution_count": null,
   "metadata": {},
   "outputs": [],
   "source": []
  },
  {
   "cell_type": "code",
   "execution_count": 239,
   "metadata": {
    "ExecuteTime": {
     "end_time": "2018-07-29T18:44:48.001718Z",
     "start_time": "2018-07-29T18:44:47.992089Z"
    }
   },
   "outputs": [
    {
     "data": {
      "text/plain": [
       "['/media/jean-phi/EOS_DIGITAL/DCIM/100CANON/IMG_0679.CR2',\n",
       " '/media/jean-phi/EOS_DIGITAL/DCIM/100CANON/IMG_0680.CR2',\n",
       " '/media/jean-phi/EOS_DIGITAL/DCIM/100CANON/IMG_0681.CR2',\n",
       " '/media/jean-phi/EOS_DIGITAL/DCIM/100CANON/IMG_0682.CR2',\n",
       " '/media/jean-phi/EOS_DIGITAL/DCIM/100CANON/IMG_0683.CR2',\n",
       " '/media/jean-phi/EOS_DIGITAL/DCIM/100CANON/IMG_0684.CR2',\n",
       " '/media/jean-phi/EOS_DIGITAL/DCIM/100CANON/IMG_0685.CR2',\n",
       " '/media/jean-phi/EOS_DIGITAL/DCIM/100CANON/IMG_0686.CR2',\n",
       " '/media/jean-phi/EOS_DIGITAL/DCIM/100CANON/IMG_0687.CR2',\n",
       " '/media/jean-phi/EOS_DIGITAL/DCIM/100CANON/IMG_0688.CR2',\n",
       " '/media/jean-phi/EOS_DIGITAL/DCIM/100CANON/IMG_0689.CR2',\n",
       " '/media/jean-phi/EOS_DIGITAL/DCIM/100CANON/IMG_0690.CR2',\n",
       " '/media/jean-phi/EOS_DIGITAL/DCIM/100CANON/IMG_0691.CR2',\n",
       " '/media/jean-phi/EOS_DIGITAL/DCIM/100CANON/IMG_0692.CR2',\n",
       " '/media/jean-phi/EOS_DIGITAL/DCIM/100CANON/IMG_0693.CR2',\n",
       " '/media/jean-phi/EOS_DIGITAL/DCIM/100CANON/IMG_0694.CR2',\n",
       " '/media/jean-phi/EOS_DIGITAL/DCIM/100CANON/IMG_0695.CR2',\n",
       " '/media/jean-phi/EOS_DIGITAL/DCIM/100CANON/IMG_0696.CR2',\n",
       " '/media/jean-phi/EOS_DIGITAL/DCIM/100CANON/IMG_0697.CR2',\n",
       " '/media/jean-phi/EOS_DIGITAL/DCIM/100CANON/IMG_0698.CR2',\n",
       " '/media/jean-phi/EOS_DIGITAL/DCIM/100CANON/IMG_0699.CR2']"
      ]
     },
     "execution_count": 239,
     "metadata": {},
     "output_type": "execute_result"
    }
   ],
   "source": [
    "listFiles(srcDirectory)"
   ]
  },
  {
   "cell_type": "code",
   "execution_count": 240,
   "metadata": {
    "ExecuteTime": {
     "end_time": "2018-07-29T18:44:48.350946Z",
     "start_time": "2018-07-29T18:44:48.347073Z"
    }
   },
   "outputs": [
    {
     "data": {
      "text/plain": [
       "'test/'"
      ]
     },
     "execution_count": 240,
     "metadata": {},
     "output_type": "execute_result"
    }
   ],
   "source": [
    "_checkTrailingSlash('test/')"
   ]
  },
  {
   "cell_type": "code",
   "execution_count": 241,
   "metadata": {
    "ExecuteTime": {
     "end_time": "2018-07-29T18:44:48.743315Z",
     "start_time": "2018-07-29T18:44:48.740389Z"
    }
   },
   "outputs": [
    {
     "data": {
      "text/plain": [
       "True"
      ]
     },
     "execution_count": 241,
     "metadata": {},
     "output_type": "execute_result"
    }
   ],
   "source": [
    "_isTargetedFile('/media/jean-phi/EOS_DIGITAL/DCIM/100CANON/IMG_0681.CR2')"
   ]
  },
  {
   "cell_type": "code",
   "execution_count": 242,
   "metadata": {
    "ExecuteTime": {
     "end_time": "2018-07-29T18:44:48.893990Z",
     "start_time": "2018-07-29T18:44:48.890997Z"
    }
   },
   "outputs": [
    {
     "data": {
      "text/plain": [
       "True"
      ]
     },
     "execution_count": 242,
     "metadata": {},
     "output_type": "execute_result"
    }
   ],
   "source": [
    "_isTargetedFile('/media/jean-phi/EOS_DIGITAL/DCIM/100CANON/IMG_0681.jpg', targetFiles=['cr2', 'jpg'])"
   ]
  },
  {
   "cell_type": "code",
   "execution_count": 291,
   "metadata": {
    "ExecuteTime": {
     "end_time": "2018-07-29T19:32:37.702296Z",
     "start_time": "2018-07-29T19:32:37.680406Z"
    }
   },
   "outputs": [
    {
     "name": "stdout",
     "output_type": "stream",
     "text": [
      "dict_keys([256, 257, 258, 259, 34853, 296, 34665, 306, 271, 272, 273, 274, 279, 33432, 315, 282, 283, 700])\n"
     ]
    },
    {
     "data": {
      "text/plain": [
       "{'Aperture': 5.6,\n",
       " 'Camera': b'Canon EOS 1200D',\n",
       " 'Date Time Original': b'2018:07:29 15:16:37',\n",
       " 'Exposure Time': 0.003125,\n",
       " 'Focal Length': 35.0,\n",
       " 'ISO': 200,\n",
       " 'Image Number': '0681'}"
      ]
     },
     "execution_count": 291,
     "metadata": {},
     "output_type": "execute_result"
    }
   ],
   "source": [
    "getImageParameters('/media/jean-phi/EOS_DIGITAL/DCIM/100CANON/IMG_0681.CR2')"
   ]
  },
  {
   "cell_type": "code",
   "execution_count": 292,
   "metadata": {
    "ExecuteTime": {
     "end_time": "2018-07-29T19:33:04.263113Z",
     "start_time": "2018-07-29T19:33:04.255119Z"
    }
   },
   "outputs": [
    {
     "data": {
      "text/plain": [
       "16"
      ]
     },
     "execution_count": 292,
     "metadata": {},
     "output_type": "execute_result"
    }
   ],
   "source": [
    "0x10"
   ]
  },
  {
   "cell_type": "code",
   "execution_count": null,
   "metadata": {},
   "outputs": [],
   "source": []
  }
 ],
 "metadata": {
  "kernelspec": {
   "display_name": "Python 3",
   "language": "python",
   "name": "python3"
  },
  "language_info": {
   "codemirror_mode": {
    "name": "ipython",
    "version": 3
   },
   "file_extension": ".py",
   "mimetype": "text/x-python",
   "name": "python",
   "nbconvert_exporter": "python",
   "pygments_lexer": "ipython3",
   "version": "3.5.2"
  },
  "toc": {
   "nav_menu": {},
   "number_sections": true,
   "sideBar": true,
   "skip_h1_title": false,
   "title_cell": "Table of Contents",
   "title_sidebar": "Contents",
   "toc_cell": false,
   "toc_position": {},
   "toc_section_display": true,
   "toc_window_display": false
  },
  "varInspector": {
   "cols": {
    "lenName": 16,
    "lenType": 16,
    "lenVar": 40
   },
   "kernels_config": {
    "python": {
     "delete_cmd_postfix": "",
     "delete_cmd_prefix": "del ",
     "library": "var_list.py",
     "varRefreshCmd": "print(var_dic_list())"
    },
    "r": {
     "delete_cmd_postfix": ") ",
     "delete_cmd_prefix": "rm(",
     "library": "var_list.r",
     "varRefreshCmd": "cat(var_dic_list()) "
    }
   },
   "types_to_exclude": [
    "module",
    "function",
    "builtin_function_or_method",
    "instance",
    "_Feature"
   ],
   "window_display": false
  }
 },
 "nbformat": 4,
 "nbformat_minor": 2
}
