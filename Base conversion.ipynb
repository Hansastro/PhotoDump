{
 "cells": [
  {
   "cell_type": "markdown",
   "metadata": {},
   "source": [
    "# Conversion from base n to base m"
   ]
  },
  {
   "cell_type": "code",
   "execution_count": 1,
   "metadata": {
    "ExecuteTime": {
     "end_time": "2018-08-12T10:55:40.062095Z",
     "start_time": "2018-08-12T10:55:40.056031Z"
    }
   },
   "outputs": [],
   "source": [
    "import random"
   ]
  },
  {
   "cell_type": "code",
   "execution_count": 2,
   "metadata": {
    "ExecuteTime": {
     "end_time": "2018-08-12T10:55:40.494073Z",
     "start_time": "2018-08-12T10:55:40.486284Z"
    }
   },
   "outputs": [],
   "source": [
    "base10='0123456789'\n",
    "base16='0123456789ABCDEF'\n",
    "base2 ='01'\n",
    "base23 = 'ABCDEFGHJKLMNPRSTUVWXYZ'\n",
    "base31='23456789ABCDEFGHJKLMNPRSTUVWXYZ'\n",
    "base31 = 'TE8CA6ZNFGXBLWU79YHV3R4KS5MPJ2D'"
   ]
  },
  {
   "cell_type": "code",
   "execution_count": 3,
   "metadata": {
    "ExecuteTime": {
     "end_time": "2018-08-12T10:55:41.077822Z",
     "start_time": "2018-08-12T10:55:41.051033Z"
    }
   },
   "outputs": [],
   "source": [
    "def convertBaseNtoM(number, baseN, baseM):\n",
    "    '''\n",
    "    Convert a number in a base n to a base m\n",
    "    \n",
    "    parameters:\n",
    "    number as a string\n",
    "    baseN as a string \n",
    "    baseM as a string\n",
    "    \n",
    "    return value:\n",
    "    the converted number in base m as a string\n",
    "    '''\n",
    "    result = ''\n",
    "    \n",
    "    # Convert the number in an integer\n",
    "    sum = 0\n",
    "    for i in range(len(number)):\n",
    "        sum += baseN.index(number[i]) * len(baseN)**(len(number) - i - 1)\n",
    "    \n",
    "    # Convert the integer into baseM\n",
    "    exponent = 1\n",
    "    while sum - len(baseM)**exponent >= 0:\n",
    "        exponent += 1\n",
    "    \n",
    "    for i in range(exponent - 1, -1, -1):\n",
    "        digit = int(sum // len(baseM)**(i))\n",
    "        result += baseM[digit]\n",
    "        sum -= digit * len(baseM)**(i)\n",
    "    \n",
    "    return result"
   ]
  },
  {
   "cell_type": "code",
   "execution_count": 4,
   "metadata": {
    "ExecuteTime": {
     "end_time": "2018-08-12T10:56:00.776504Z",
     "start_time": "2018-08-12T10:56:00.773221Z"
    }
   },
   "outputs": [],
   "source": [
    "name = convertBaseNtoM('1018081500', base10, base31)"
   ]
  },
  {
   "cell_type": "code",
   "execution_count": 5,
   "metadata": {
    "ExecuteTime": {
     "end_time": "2018-08-12T10:56:02.305228Z",
     "start_time": "2018-08-12T10:56:02.287915Z"
    }
   },
   "outputs": [
    {
     "data": {
      "text/plain": [
       "'EAYLAT4'"
      ]
     },
     "execution_count": 5,
     "metadata": {},
     "output_type": "execute_result"
    }
   ],
   "source": [
    "name"
   ]
  },
  {
   "cell_type": "code",
   "execution_count": 6,
   "metadata": {
    "ExecuteTime": {
     "end_time": "2018-07-30T22:17:07.479165Z",
     "start_time": "2018-07-30T22:17:07.475095Z"
    }
   },
   "outputs": [
    {
     "data": {
      "text/plain": [
       "'818132400'"
      ]
     },
     "execution_count": 6,
     "metadata": {},
     "output_type": "execute_result"
    }
   ],
   "source": [
    "convertBaseNtoM('JYPLWK', base31, base10)"
   ]
  },
  {
   "cell_type": "code",
   "execution_count": 6,
   "metadata": {
    "ExecuteTime": {
     "end_time": "2018-08-12T10:56:08.802620Z",
     "start_time": "2018-08-12T10:56:08.796892Z"
    }
   },
   "outputs": [
    {
     "data": {
      "text/plain": [
       "'EAY_LAT4'"
      ]
     },
     "execution_count": 6,
     "metadata": {},
     "output_type": "execute_result"
    }
   ],
   "source": [
    "name[0:3] + '_' + name[3:]"
   ]
  },
  {
   "cell_type": "code",
   "execution_count": 8,
   "metadata": {
    "ExecuteTime": {
     "end_time": "2018-07-30T22:17:07.497470Z",
     "start_time": "2018-07-30T22:17:07.494110Z"
    }
   },
   "outputs": [
    {
     "data": {
      "text/plain": [
       "256"
      ]
     },
     "execution_count": 8,
     "metadata": {},
     "output_type": "execute_result"
    }
   ],
   "source": [
    "1024-768"
   ]
  },
  {
   "cell_type": "code",
   "execution_count": 9,
   "metadata": {
    "ExecuteTime": {
     "end_time": "2018-07-30T22:17:07.502438Z",
     "start_time": "2018-07-30T22:17:07.499283Z"
    }
   },
   "outputs": [
    {
     "data": {
      "text/plain": [
       "16.0"
      ]
     },
     "execution_count": 9,
     "metadata": {},
     "output_type": "execute_result"
    }
   ],
   "source": [
    "256/16"
   ]
  },
  {
   "cell_type": "code",
   "execution_count": 10,
   "metadata": {
    "ExecuteTime": {
     "end_time": "2018-07-30T22:17:07.506936Z",
     "start_time": "2018-07-30T22:17:07.504499Z"
    }
   },
   "outputs": [],
   "source": [
    "l = list(base31)"
   ]
  },
  {
   "cell_type": "code",
   "execution_count": 11,
   "metadata": {
    "ExecuteTime": {
     "end_time": "2018-07-30T22:17:07.512247Z",
     "start_time": "2018-07-30T22:17:07.508591Z"
    }
   },
   "outputs": [
    {
     "data": {
      "text/plain": [
       "['T',\n",
       " 'E',\n",
       " '8',\n",
       " 'C',\n",
       " 'A',\n",
       " '6',\n",
       " 'Z',\n",
       " 'N',\n",
       " 'F',\n",
       " 'G',\n",
       " 'X',\n",
       " 'B',\n",
       " 'L',\n",
       " 'W',\n",
       " 'U',\n",
       " '7',\n",
       " '9',\n",
       " 'Y',\n",
       " 'H',\n",
       " 'V',\n",
       " '3',\n",
       " 'R',\n",
       " '4',\n",
       " 'K',\n",
       " 'S',\n",
       " '5',\n",
       " 'M',\n",
       " 'P',\n",
       " 'J',\n",
       " '2',\n",
       " 'D']"
      ]
     },
     "execution_count": 11,
     "metadata": {},
     "output_type": "execute_result"
    }
   ],
   "source": [
    "l"
   ]
  },
  {
   "cell_type": "code",
   "execution_count": 12,
   "metadata": {
    "ExecuteTime": {
     "end_time": "2018-07-30T22:17:07.516466Z",
     "start_time": "2018-07-30T22:17:07.513942Z"
    }
   },
   "outputs": [],
   "source": [
    "random.shuffle(l)"
   ]
  },
  {
   "cell_type": "code",
   "execution_count": 13,
   "metadata": {
    "ExecuteTime": {
     "end_time": "2018-07-30T22:17:07.522189Z",
     "start_time": "2018-07-30T22:17:07.518203Z"
    }
   },
   "outputs": [
    {
     "data": {
      "text/plain": [
       "['K',\n",
       " '2',\n",
       " '7',\n",
       " 'J',\n",
       " 'M',\n",
       " 'C',\n",
       " 'D',\n",
       " 'A',\n",
       " '4',\n",
       " 'G',\n",
       " 'F',\n",
       " 'X',\n",
       " 'V',\n",
       " 'Z',\n",
       " 'L',\n",
       " 'H',\n",
       " '6',\n",
       " 'U',\n",
       " 'Y',\n",
       " '9',\n",
       " '5',\n",
       " 'N',\n",
       " 'E',\n",
       " 'W',\n",
       " 'P',\n",
       " '8',\n",
       " 'B',\n",
       " 'S',\n",
       " 'T',\n",
       " '3',\n",
       " 'R']"
      ]
     },
     "execution_count": 13,
     "metadata": {},
     "output_type": "execute_result"
    }
   ],
   "source": [
    "l"
   ]
  },
  {
   "cell_type": "code",
   "execution_count": 14,
   "metadata": {
    "ExecuteTime": {
     "end_time": "2018-07-30T22:17:07.527514Z",
     "start_time": "2018-07-30T22:17:07.524599Z"
    }
   },
   "outputs": [
    {
     "data": {
      "text/plain": [
       "'K27JMCDA4GFXVZLH6UY95NEWP8BST3R'"
      ]
     },
     "execution_count": 14,
     "metadata": {},
     "output_type": "execute_result"
    }
   ],
   "source": [
    "''.join(l)"
   ]
  },
  {
   "cell_type": "code",
   "execution_count": null,
   "metadata": {},
   "outputs": [],
   "source": []
  }
 ],
 "metadata": {
  "kernelspec": {
   "display_name": "Python 3",
   "language": "python",
   "name": "python3"
  },
  "language_info": {
   "codemirror_mode": {
    "name": "ipython",
    "version": 3
   },
   "file_extension": ".py",
   "mimetype": "text/x-python",
   "name": "python",
   "nbconvert_exporter": "python",
   "pygments_lexer": "ipython3",
   "version": "3.5.2"
  },
  "toc": {
   "base_numbering": 1,
   "nav_menu": {},
   "number_sections": true,
   "sideBar": true,
   "skip_h1_title": false,
   "title_cell": "Table of Contents",
   "title_sidebar": "Contents",
   "toc_cell": false,
   "toc_position": {},
   "toc_section_display": true,
   "toc_window_display": false
  },
  "varInspector": {
   "cols": {
    "lenName": 16,
    "lenType": 16,
    "lenVar": 40
   },
   "kernels_config": {
    "python": {
     "delete_cmd_postfix": "",
     "delete_cmd_prefix": "del ",
     "library": "var_list.py",
     "varRefreshCmd": "print(var_dic_list())"
    },
    "r": {
     "delete_cmd_postfix": ") ",
     "delete_cmd_prefix": "rm(",
     "library": "var_list.r",
     "varRefreshCmd": "cat(var_dic_list()) "
    }
   },
   "types_to_exclude": [
    "module",
    "function",
    "builtin_function_or_method",
    "instance",
    "_Feature"
   ],
   "window_display": false
  }
 },
 "nbformat": 4,
 "nbformat_minor": 2
}
