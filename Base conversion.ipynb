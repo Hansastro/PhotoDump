{
 "cells": [
  {
   "cell_type": "markdown",
   "metadata": {},
   "source": [
    "# Conversion from base n to base m"
   ]
  },
  {
   "cell_type": "code",
   "execution_count": 344,
   "metadata": {
    "collapsed": true
   },
   "outputs": [],
   "source": [
    "import random"
   ]
  },
  {
   "cell_type": "code",
   "execution_count": 368,
   "metadata": {
    "collapsed": true
   },
   "outputs": [],
   "source": [
    "base10='0123456789'\n",
    "base16='0123456789ABCDEF'\n",
    "base2 ='01'\n",
    "base23 = 'ABCDEFGHJKLMNPRSTUVWXYZ'\n",
    "base31='23456789ABCDEFGHJKLMNPRSTUVWXYZ'\n",
    "base31 = 'TE8CA6ZNFGXBLWU79YHV3R4KS5MPJ2D'"
   ]
  },
  {
   "cell_type": "code",
   "execution_count": 369,
   "metadata": {
    "collapsed": true
   },
   "outputs": [],
   "source": [
    "def convertBaseNtoM(number, baseN, baseM):\n",
    "    '''\n",
    "    Convert a number in a base n to a base m\n",
    "    \n",
    "    parameters:\n",
    "    number as a string\n",
    "    baseN as a string \n",
    "    baseM as a string\n",
    "    \n",
    "    return value:\n",
    "    the converted number in base m as a string\n",
    "    '''\n",
    "    result = ''\n",
    "    \n",
    "    # Convert the number in an integer\n",
    "    sum = 0\n",
    "    for i in range(len(number)):\n",
    "        sum += baseN.index(number[i]) * len(baseN)**(len(number) - i - 1)\n",
    "    \n",
    "    # Convert the integer into baseM\n",
    "    exponent = 1\n",
    "    while sum - len(baseM)**exponent >= 0:\n",
    "        exponent += 1\n",
    "    \n",
    "    for i in range(exponent - 1, -1, -1):\n",
    "        digit = int(sum // len(baseM)**(i))\n",
    "        result += baseM[digit]\n",
    "        sum -= digit * len(baseM)**(i)\n",
    "    \n",
    "    return result"
   ]
  },
  {
   "cell_type": "code",
   "execution_count": 370,
   "metadata": {
    "collapsed": false
   },
   "outputs": [],
   "source": [
    "name = convertBaseNtoM('0818132400', base10, base31)"
   ]
  },
  {
   "cell_type": "code",
   "execution_count": 371,
   "metadata": {
    "collapsed": false
   },
   "outputs": [
    {
     "data": {
      "text/plain": [
       "'JYPLWK'"
      ]
     },
     "execution_count": 371,
     "metadata": {},
     "output_type": "execute_result"
    }
   ],
   "source": [
    "name"
   ]
  },
  {
   "cell_type": "code",
   "execution_count": 372,
   "metadata": {
    "collapsed": false
   },
   "outputs": [
    {
     "data": {
      "text/plain": [
       "'818132400'"
      ]
     },
     "execution_count": 372,
     "metadata": {},
     "output_type": "execute_result"
    }
   ],
   "source": [
    "convertBaseNtoM('JYPLWK', base31, base10)"
   ]
  },
  {
   "cell_type": "code",
   "execution_count": 373,
   "metadata": {
    "collapsed": false
   },
   "outputs": [
    {
     "data": {
      "text/plain": [
       "'JYP_LWK'"
      ]
     },
     "execution_count": 373,
     "metadata": {},
     "output_type": "execute_result"
    }
   ],
   "source": [
    "name[0:3] + '_' + name[3:]"
   ]
  },
  {
   "cell_type": "code",
   "execution_count": 356,
   "metadata": {
    "collapsed": false
   },
   "outputs": [
    {
     "data": {
      "text/plain": [
       "256"
      ]
     },
     "execution_count": 356,
     "metadata": {},
     "output_type": "execute_result"
    }
   ],
   "source": [
    "1024-768"
   ]
  },
  {
   "cell_type": "code",
   "execution_count": 357,
   "metadata": {
    "collapsed": false
   },
   "outputs": [
    {
     "data": {
      "text/plain": [
       "16.0"
      ]
     },
     "execution_count": 357,
     "metadata": {},
     "output_type": "execute_result"
    }
   ],
   "source": [
    "256/16"
   ]
  },
  {
   "cell_type": "code",
   "execution_count": 362,
   "metadata": {
    "collapsed": false
   },
   "outputs": [],
   "source": [
    "l = list(base31)"
   ]
  },
  {
   "cell_type": "code",
   "execution_count": 363,
   "metadata": {
    "collapsed": false
   },
   "outputs": [
    {
     "data": {
      "text/plain": [
       "['T',\n",
       " 'E',\n",
       " '8',\n",
       " 'C',\n",
       " 'A',\n",
       " '6',\n",
       " 'Z',\n",
       " 'N',\n",
       " 'F',\n",
       " 'G',\n",
       " 'X',\n",
       " 'B',\n",
       " 'L',\n",
       " 'W',\n",
       " 'U',\n",
       " '7',\n",
       " '9',\n",
       " 'Y',\n",
       " 'H',\n",
       " 'V',\n",
       " '3',\n",
       " 'R',\n",
       " '4',\n",
       " 'K',\n",
       " 'S',\n",
       " '5',\n",
       " 'M',\n",
       " 'P',\n",
       " 'J',\n",
       " '2',\n",
       " 'D']"
      ]
     },
     "execution_count": 363,
     "metadata": {},
     "output_type": "execute_result"
    }
   ],
   "source": [
    "l"
   ]
  },
  {
   "cell_type": "code",
   "execution_count": 364,
   "metadata": {
    "collapsed": false
   },
   "outputs": [],
   "source": [
    "random.shuffle(l)"
   ]
  },
  {
   "cell_type": "code",
   "execution_count": 365,
   "metadata": {
    "collapsed": false
   },
   "outputs": [
    {
     "data": {
      "text/plain": [
       "['X',\n",
       " 'Y',\n",
       " 'S',\n",
       " 'R',\n",
       " '3',\n",
       " 'T',\n",
       " 'A',\n",
       " 'L',\n",
       " 'M',\n",
       " 'C',\n",
       " 'J',\n",
       " 'F',\n",
       " '9',\n",
       " 'D',\n",
       " 'N',\n",
       " 'K',\n",
       " 'W',\n",
       " 'U',\n",
       " '6',\n",
       " '2',\n",
       " 'H',\n",
       " 'G',\n",
       " '7',\n",
       " 'P',\n",
       " '4',\n",
       " 'V',\n",
       " '5',\n",
       " '8',\n",
       " 'Z',\n",
       " 'B',\n",
       " 'E']"
      ]
     },
     "execution_count": 365,
     "metadata": {},
     "output_type": "execute_result"
    }
   ],
   "source": [
    "l"
   ]
  },
  {
   "cell_type": "code",
   "execution_count": 366,
   "metadata": {
    "collapsed": false
   },
   "outputs": [
    {
     "data": {
      "text/plain": [
       "'XYSR3TALMCJF9DNKWU62HG7P4V58ZBE'"
      ]
     },
     "execution_count": 366,
     "metadata": {},
     "output_type": "execute_result"
    }
   ],
   "source": [
    "''.join(l)"
   ]
  },
  {
   "cell_type": "code",
   "execution_count": null,
   "metadata": {
    "collapsed": true
   },
   "outputs": [],
   "source": []
  }
 ],
 "metadata": {
  "kernelspec": {
   "display_name": "Python 3",
   "language": "python",
   "name": "python3"
  },
  "language_info": {
   "codemirror_mode": {
    "name": "ipython",
    "version": 3
   },
   "file_extension": ".py",
   "mimetype": "text/x-python",
   "name": "python",
   "nbconvert_exporter": "python",
   "pygments_lexer": "ipython3",
   "version": "3.6.0"
  }
 },
 "nbformat": 4,
 "nbformat_minor": 2
}
